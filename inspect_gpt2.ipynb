{
 "cells": [
  {
   "cell_type": "code",
   "execution_count": 1,
   "id": "03d0363c-2391-4879-a566-b4b20d01db9e",
   "metadata": {
    "tags": []
   },
   "outputs": [],
   "source": [
    "import transformers\n",
    "import os\n",
    "os.environ['HUGGINGFACE_HUB_CACHE'] = '/scratch/gsk6me/huggingface_cache'\n",
    "\n",
    "gpt2 = transformers.GPT2LMHeadModel.from_pretrained(\"openai-community/gpt2\").to(\"cuda\")\n",
    "gpt2_tokenizer = transformers.GPT2Tokenizer.from_pretrained(\"openai-community/gpt2\")"
   ]
  },
  {
   "cell_type": "markdown",
   "id": "51a352ba-92ad-496f-b07e-64926b698096",
   "metadata": {},
   "source": [
    "# Step 1: Remove `elementwise_affine`"
   ]
  },
  {
   "cell_type": "code",
   "execution_count": 2,
   "id": "b8d1ce39-d71c-4061-b906-b8d0a4738276",
   "metadata": {
    "tags": []
   },
   "outputs": [
    {
     "data": {
      "text/plain": [
       "GPT2LMHeadModel(\n",
       "  (transformer): GPT2Model(\n",
       "    (wte): Embedding(50257, 768)\n",
       "    (wpe): Embedding(1024, 768)\n",
       "    (drop): Dropout(p=0.1, inplace=False)\n",
       "    (h): ModuleList(\n",
       "      (0-11): 12 x GPT2Block(\n",
       "        (ln_1): LayerNorm((768,), eps=1e-05, elementwise_affine=True)\n",
       "        (attn): GPT2Attention(\n",
       "          (c_attn): Conv1D()\n",
       "          (c_proj): Conv1D()\n",
       "          (attn_dropout): Dropout(p=0.1, inplace=False)\n",
       "          (resid_dropout): Dropout(p=0.1, inplace=False)\n",
       "        )\n",
       "        (ln_2): LayerNorm((768,), eps=1e-05, elementwise_affine=True)\n",
       "        (mlp): GPT2MLP(\n",
       "          (c_fc): Conv1D()\n",
       "          (c_proj): Conv1D()\n",
       "          (act): NewGELUActivation()\n",
       "          (dropout): Dropout(p=0.1, inplace=False)\n",
       "        )\n",
       "      )\n",
       "    )\n",
       "    (ln_f): LayerNorm((768,), eps=1e-05, elementwise_affine=True)\n",
       "  )\n",
       "  (lm_head): Linear(in_features=768, out_features=50257, bias=False)\n",
       ")"
      ]
     },
     "execution_count": 2,
     "metadata": {},
     "output_type": "execute_result"
    }
   ],
   "source": [
    "gpt2"
   ]
  },
  {
   "cell_type": "markdown",
   "id": "5f9a4f49-d3e8-4045-8a50-a34edfe816bd",
   "metadata": {},
   "source": [
    "To get rid of elementwise_affine, we must first understand what it does:\n",
    "$$\n",
    "\\operatorname{LayerNorm}(x) = \\frac{x - \\mathbb{E}[x]}{\\sqrt{\\operatorname{Var}[x] + \\epsilon}} * \\gamma + \\beta\n",
    "$$\n",
    "Where $\\gamma, \\beta \\in \\mathbb R^{d_{model}}$. Thus we can try to fix this moving from the last layer to the first. Starting from the unembedding, we can just subtract $\\beta$ from each of the unembedding parameters, and then divide the unembedding weights by $\\gamma$."
   ]
  },
  {
   "cell_type": "code",
   "execution_count": 3,
   "id": "d8603207-fe46-4532-9bff-481394f32726",
   "metadata": {
    "tags": []
   },
   "outputs": [
    {
     "data": {
      "text/plain": [
       "GPT2Block(\n",
       "  (ln_1): LayerNorm((768,), eps=1e-05, elementwise_affine=True)\n",
       "  (attn): GPT2Attention(\n",
       "    (c_attn): Conv1D()\n",
       "    (c_proj): Conv1D()\n",
       "    (attn_dropout): Dropout(p=0.1, inplace=False)\n",
       "    (resid_dropout): Dropout(p=0.1, inplace=False)\n",
       "  )\n",
       "  (ln_2): LayerNorm((768,), eps=1e-05, elementwise_affine=True)\n",
       "  (mlp): GPT2MLP(\n",
       "    (c_fc): Conv1D()\n",
       "    (c_proj): Conv1D()\n",
       "    (act): NewGELUActivation()\n",
       "    (dropout): Dropout(p=0.1, inplace=False)\n",
       "  )\n",
       ")"
      ]
     },
     "execution_count": 3,
     "metadata": {},
     "output_type": "execute_result"
    }
   ],
   "source": [
    "gpt2.transformer.h[-1]"
   ]
  },
  {
   "cell_type": "code",
   "execution_count": 4,
   "id": "94cef0db-e664-4921-b070-b3621b3565f2",
   "metadata": {
    "tags": []
   },
   "outputs": [
    {
     "data": {
      "text/plain": [
       "torch.Size([768])"
      ]
     },
     "execution_count": 4,
     "metadata": {},
     "output_type": "execute_result"
    }
   ],
   "source": [
    "# can we get rid of elementwise_affine?\n",
    "gpt2.transformer.h[0].ln_1.weight.shape"
   ]
  },
  {
   "cell_type": "code",
   "execution_count": 5,
   "id": "4b98ddb6-bb24-40ab-8316-79b7c8760c48",
   "metadata": {
    "tags": []
   },
   "outputs": [
    {
     "data": {
      "text/plain": [
       "torch.Size([50257, 768])"
      ]
     },
     "execution_count": 5,
     "metadata": {},
     "output_type": "execute_result"
    }
   ],
   "source": [
    "gpt2.lm_head.weight.shape"
   ]
  },
  {
   "cell_type": "code",
   "execution_count": 6,
   "id": "3b5770e7-a197-4507-84ce-4cc9f80b31c1",
   "metadata": {
    "tags": []
   },
   "outputs": [
    {
     "data": {
      "text/plain": [
       "torch.Size([768, 3072])"
      ]
     },
     "execution_count": 6,
     "metadata": {},
     "output_type": "execute_result"
    }
   ],
   "source": [
    "gpt2.transformer.h[-1].mlp.c_fc.weight.shape"
   ]
  },
  {
   "cell_type": "code",
   "execution_count": 7,
   "id": "ffba48d9-c61e-45d0-a36d-54ae0498facb",
   "metadata": {
    "tags": []
   },
   "outputs": [],
   "source": [
    "import torch"
   ]
  },
  {
   "cell_type": "code",
   "execution_count": 8,
   "id": "fdb9f1dc-2e97-4e12-8b6f-dd15cafe6ded",
   "metadata": {
    "tags": []
   },
   "outputs": [
    {
     "data": {
      "text/plain": [
       "True"
      ]
     },
     "execution_count": 8,
     "metadata": {},
     "output_type": "execute_result"
    }
   ],
   "source": [
    "\"\"\"\n",
    "residual = hidden_states\n",
    "hidden_states = self.ln_2(hidden_states)\n",
    "feed_forward_hidden_states = self.mlp(hidden_states)\n",
    "# residual connection\n",
    "hidden_states = residual + feed_forward_hidden_states\n",
    "\"\"\"\n",
    "\n",
    "ln_non_affine = torch.nn.LayerNorm(normalized_shape=(768,)).to('cuda')\n",
    "\n",
    "inp = torch.arange(768, device='cuda').float()\n",
    "\n",
    "ln = gpt2.transformer.h[-1].ln_2\n",
    "with torch.no_grad():\n",
    "    r = (ln(inp) - ln.bias)/ln.weight\n",
    "torch.allclose(r, ln_non_affine(inp))"
   ]
  },
  {
   "cell_type": "code",
   "execution_count": 9,
   "id": "ad7b1c69-dba4-4685-b55f-037088ebc968",
   "metadata": {
    "tags": []
   },
   "outputs": [],
   "source": [
    "lnw_orig = ln.weight.clone()\n",
    "lnb_orig = ln.bias.clone()"
   ]
  },
  {
   "cell_type": "code",
   "execution_count": 11,
   "id": "064bbc75-7dfe-4e8e-b0f4-341649e7b20c",
   "metadata": {
    "tags": []
   },
   "outputs": [],
   "source": [
    "weight_orig = gpt2.transformer.h[-1].mlp.c_fc.weight.clone()\n",
    "bias_orig = gpt2.transformer.h[-1].mlp.c_fc.bias.clone()"
   ]
  },
  {
   "cell_type": "code",
   "execution_count": 13,
   "id": "bec4add5-5680-488d-ada3-4b5913644aec",
   "metadata": {
    "tags": []
   },
   "outputs": [
    {
     "data": {
      "text/plain": [
       "torch.Size([3072])"
      ]
     },
     "execution_count": 13,
     "metadata": {},
     "output_type": "execute_result"
    }
   ],
   "source": [
    "gpt2.transformer.h[-1].mlp.c_fc(ln.bias).shape"
   ]
  },
  {
   "cell_type": "code",
   "execution_count": 14,
   "id": "c3cbe62a-c02c-4224-887b-f54692729a92",
   "metadata": {
    "tags": []
   },
   "outputs": [
    {
     "name": "stdout",
     "output_type": "stream",
     "text": [
      "tensor([-0.0647,  0.3438,  0.5384,  ..., -0.1176, -0.1933, -0.2486],\n",
      "       device='cuda:0', grad_fn=<MvBackward0>) tensor([-0.0379,  0.4127,  0.6849,  ..., -0.0568, -0.1684, -0.2452],\n",
      "       device='cuda:0', grad_fn=<SubBackward0>)\n"
     ]
    },
    {
     "data": {
      "text/plain": [
       "tensor([[[ -37.0708,  -36.4855,  -40.3520,  ...,  -46.5168,  -45.4142,\n",
       "           -37.9090],\n",
       "         [ -69.5277,  -65.2476,  -74.2180,  ...,  -80.8885,  -76.5055,\n",
       "           -70.8534],\n",
       "         [ -93.6960,  -93.7839,  -94.6315,  ..., -104.1838, -102.1104,\n",
       "           -89.3226]]], device='cuda:0')"
      ]
     },
     "execution_count": 14,
     "metadata": {},
     "output_type": "execute_result"
    }
   ],
   "source": [
    "ln = gpt2.transformer.h[-1].ln_2\n",
    "weight_rescaled = weight_orig * lnw_orig.unsqueeze(-1)\n",
    "fc = gpt2.transformer.h[-1].mlp.c_fc\n",
    "gpt2.transformer.h[-1].mlp.c_fc.weight.data = weight_rescaled\n",
    "gpt2.transformer.h[-1].mlp.c_fc.bias.data = bias_orig + weight_orig.T @ lnb_orig\n",
    "print(weight_orig.T@lnb_orig, fc(lnb_orig) - bias_orig)\n",
    "gpt2.transformer.h[-1].ln_2.elementwise_affine = False\n",
    "with torch.no_grad():\n",
    "    gpt2.transformer.h[-1].ln_2.weight[:] = 1\n",
    "    gpt2.transformer.h[-1].ln_2.bias[:] = 0\n",
    "with torch.no_grad():\n",
    "    result_rescaled = gpt2(**gpt2_tokenizer(\"hello world!\", return_tensors='pt').to('cuda'))\n",
    "result_rescaled.logits"
   ]
  },
  {
   "cell_type": "code",
   "execution_count": 15,
   "id": "03d2bb8d-28d7-42db-a5f1-20792f23d1a9",
   "metadata": {
    "tags": []
   },
   "outputs": [
    {
     "data": {
      "text/plain": [
       "tensor([[[ -37.0708,  -36.4855,  -40.3520,  ...,  -46.5168,  -45.4142,\n",
       "           -37.9090],\n",
       "         [ -69.5277,  -65.2476,  -74.2180,  ...,  -80.8885,  -76.5055,\n",
       "           -70.8534],\n",
       "         [ -93.6960,  -93.7839,  -94.6315,  ..., -104.1838, -102.1104,\n",
       "           -89.3226]]], device='cuda:0')"
      ]
     },
     "execution_count": 15,
     "metadata": {},
     "output_type": "execute_result"
    }
   ],
   "source": [
    "gpt2.transformer.h[-1].mlp.c_fc.weight.data = weight_orig\n",
    "gpt2.transformer.h[-1].mlp.c_fc.bias.data = bias_orig\n",
    "gpt2.transformer.h[-1].ln_2.elementwise_affine = True\n",
    "with torch.no_grad():\n",
    "    gpt2.transformer.h[-1].ln_2.weight[:] = lnw_orig\n",
    "    gpt2.transformer.h[-1].ln_2.bias[:] = lnb_orig\n",
    "with torch.no_grad():\n",
    "    result_orig = gpt2(**gpt2_tokenizer(\"hello world!\", return_tensors='pt').to('cuda'))\n",
    "result_orig.logits"
   ]
  },
  {
   "cell_type": "code",
   "execution_count": 16,
   "id": "e7345373-735a-4833-8d1c-0f68ab5023bb",
   "metadata": {
    "tags": []
   },
   "outputs": [
    {
     "data": {
      "text/plain": [
       "tensor([[[-3.8147e-06,  0.0000e+00,  0.0000e+00,  ...,  0.0000e+00,\n",
       "          -3.8147e-06, -3.8147e-06],\n",
       "         [ 0.0000e+00,  0.0000e+00,  0.0000e+00,  ...,  0.0000e+00,\n",
       "           0.0000e+00,  7.6294e-06],\n",
       "         [ 0.0000e+00,  0.0000e+00,  0.0000e+00,  ...,  0.0000e+00,\n",
       "           0.0000e+00,  0.0000e+00]]], device='cuda:0')"
      ]
     },
     "execution_count": 16,
     "metadata": {},
     "output_type": "execute_result"
    }
   ],
   "source": [
    "result_rescaled.logits - result_orig.logits"
   ]
  },
  {
   "cell_type": "code",
   "execution_count": 17,
   "id": "84639c5b-40ad-4982-8e8f-29540b186878",
   "metadata": {
    "tags": []
   },
   "outputs": [],
   "source": [
    "def remove_elementwise_affine_2(tblock):\n",
    "    ln2 = tblock.ln_2\n",
    "    fc1 = tblock.mlp.c_fc\n",
    "    with torch.no_grad():\n",
    "        weight_orig = fc1.weight.data.clone()\n",
    "        fc1.weight.data = fc1.weight * ln2.weight.unsqueeze(-1)\n",
    "        fc1.bias.data = fc1.bias + weight_orig.T @ ln2.bias.data\n",
    "        ln2.elementwise_affine = False\n",
    "        ln2.weight[:] = 1\n",
    "        ln2.bias[:] = 0\n"
   ]
  },
  {
   "cell_type": "code",
   "execution_count": 18,
   "id": "0a23b96e-73b5-4958-b731-fcf1a01ac90a",
   "metadata": {
    "tags": []
   },
   "outputs": [],
   "source": [
    "for i in range(len(gpt2.transformer.h)):\n",
    "    remove_elementwise_affine_2(gpt2.transformer.h[i])"
   ]
  },
  {
   "cell_type": "code",
   "execution_count": 19,
   "id": "8a9c2adb-b7d8-48bf-8e04-be77ed488598",
   "metadata": {
    "tags": []
   },
   "outputs": [
    {
     "name": "stdout",
     "output_type": "stream",
     "text": [
      "tensor([[[ 0.0000e+00,  0.0000e+00,  0.0000e+00,  ..., -3.8147e-06,\n",
      "           0.0000e+00, -7.6294e-06],\n",
      "         [ 0.0000e+00, -7.6294e-06, -7.6294e-06,  ..., -7.6294e-06,\n",
      "           0.0000e+00,  0.0000e+00],\n",
      "         [ 0.0000e+00,  7.6294e-06,  0.0000e+00,  ...,  7.6294e-06,\n",
      "           7.6294e-06,  0.0000e+00]]], device='cuda:0')\n"
     ]
    }
   ],
   "source": [
    "with torch.no_grad():\n",
    "    print(gpt2(**gpt2_tokenizer(\"hello world!\", return_tensors='pt').to('cuda')).logits - result_orig.logits)"
   ]
  },
  {
   "cell_type": "markdown",
   "id": "e1ea534b-ea57-4d77-81c6-f500c42a699f",
   "metadata": {},
   "source": [
    "## Result\n",
    "\n",
    "We were able to undo the notion of `elementwise_affine` for the second LayerNorm. The nice thing is that the whole residual stream doesn't seem to get layernorm'd here, which is sort of surprising actually and I'm not sure if it will need to be modified for other networks\n"
   ]
  },
  {
   "cell_type": "markdown",
   "id": "2feed876-b1b1-4437-af25-bdb3c2133577",
   "metadata": {},
   "source": [
    "## Removing `ln1`'s `elementwise_affine`\n",
    "\n",
    "We will do this by modifying the `c_attn` affine transformations\n"
   ]
  },
  {
   "cell_type": "code",
   "execution_count": 20,
   "id": "06d88ac0-4e82-4475-a01f-daee6221be57",
   "metadata": {
    "tags": []
   },
   "outputs": [],
   "source": [
    "def remove_elementwise_affine_1(tblock):\n",
    "    ln = tblock.ln_1\n",
    "    fc = tblock.attn.c_attn\n",
    "    with torch.no_grad():\n",
    "        weight_orig = fc.weight.data.clone()\n",
    "        fc.weight.data = fc.weight * ln.weight.unsqueeze(-1)\n",
    "        fc.bias.data = fc.bias + weight_orig.T @ ln.bias.data\n",
    "        ln.elementwise_affine = False\n",
    "        ln.weight[:] = 1\n",
    "        ln.bias[:] = 0\n"
   ]
  },
  {
   "cell_type": "code",
   "execution_count": 21,
   "id": "c76cb0d2-ae2e-425f-9529-4a3100990bde",
   "metadata": {
    "tags": []
   },
   "outputs": [],
   "source": [
    "tblock = gpt2.transformer.h[-1]\n",
    "Wa_orig = tblock.attn.c_attn.weight.clone()\n",
    "ba_orig = tblock.attn.c_attn.bias.clone()\n",
    "ln1w_orig = tblock.ln_1.weight.clone()\n",
    "ln1b_orig = tblock.ln_1.bias.clone()"
   ]
  },
  {
   "cell_type": "code",
   "execution_count": 22,
   "id": "eece64a2-353b-4dc0-84eb-570e70e24445",
   "metadata": {},
   "outputs": [],
   "source": [
    "ln = tblock.ln_1\n",
    "fc = tblock.attn.c_attn\n",
    "with torch.no_grad():\n",
    "    weight_orig = fc.weight.data.clone()\n",
    "    fc.weight.data = fc.weight * ln.weight.unsqueeze(-1)\n",
    "    fc.bias.data = fc.bias + weight_orig.T @ ln.bias.data\n",
    "    ln.elementwise_affine = False\n",
    "    ln.weight[:] = 1\n",
    "    ln.bias[:] = 0\n",
    "    \n",
    "with torch.no_grad():\n",
    "    result_fixed_attn = gpt2(**gpt2_tokenizer(\"hello world!\", return_tensors='pt').to('cuda'))\n",
    "\n",
    "# gpt2.transformer.h[-1].attn.c_attn.weight.shape"
   ]
  },
  {
   "cell_type": "code",
   "execution_count": 23,
   "id": "1bf1946c-0794-416c-aa61-916ebb0fd5f2",
   "metadata": {
    "tags": []
   },
   "outputs": [
    {
     "data": {
      "text/plain": [
       "tensor(3.4332e-05, device='cuda:0')"
      ]
     },
     "execution_count": 23,
     "metadata": {},
     "output_type": "execute_result"
    }
   ],
   "source": [
    "(result_fixed_attn.logits - result_orig.logits).abs().max()"
   ]
  },
  {
   "cell_type": "code",
   "execution_count": 24,
   "id": "e0babe48-d5b7-4e76-9d7d-4ed0dd13b8ca",
   "metadata": {
    "tags": []
   },
   "outputs": [],
   "source": [
    "for i in range(len(gpt2.transformer.h)):\n",
    "    remove_elementwise_affine_1(gpt2.transformer.h[i])"
   ]
  },
  {
   "cell_type": "code",
   "execution_count": 25,
   "id": "445656ee-48eb-443a-9a38-a2d0baf22327",
   "metadata": {
    "tags": []
   },
   "outputs": [
    {
     "data": {
      "text/plain": [
       "tensor(3.8147e-05, device='cuda:0')"
      ]
     },
     "execution_count": 25,
     "metadata": {},
     "output_type": "execute_result"
    }
   ],
   "source": [
    "with torch.no_grad():\n",
    "    result_fixed_attn_all = gpt2(**gpt2_tokenizer(\"hello world!\", return_tensors='pt').to('cuda'))\n",
    "    \n",
    "(result_fixed_attn_all.logits - result_orig.logits).abs().max()"
   ]
  },
  {
   "cell_type": "code",
   "execution_count": 26,
   "id": "5294e9db-9a2a-4eb8-b152-fe28dfa6e56f",
   "metadata": {
    "tags": []
   },
   "outputs": [
    {
     "data": {
      "text/plain": [
       "GPT2LMHeadModel(\n",
       "  (transformer): GPT2Model(\n",
       "    (wte): Embedding(50257, 768)\n",
       "    (wpe): Embedding(1024, 768)\n",
       "    (drop): Dropout(p=0.1, inplace=False)\n",
       "    (h): ModuleList(\n",
       "      (0-11): 12 x GPT2Block(\n",
       "        (ln_1): LayerNorm((768,), eps=1e-05, elementwise_affine=False)\n",
       "        (attn): GPT2Attention(\n",
       "          (c_attn): Conv1D()\n",
       "          (c_proj): Conv1D()\n",
       "          (attn_dropout): Dropout(p=0.1, inplace=False)\n",
       "          (resid_dropout): Dropout(p=0.1, inplace=False)\n",
       "        )\n",
       "        (ln_2): LayerNorm((768,), eps=1e-05, elementwise_affine=False)\n",
       "        (mlp): GPT2MLP(\n",
       "          (c_fc): Conv1D()\n",
       "          (c_proj): Conv1D()\n",
       "          (act): NewGELUActivation()\n",
       "          (dropout): Dropout(p=0.1, inplace=False)\n",
       "        )\n",
       "      )\n",
       "    )\n",
       "    (ln_f): LayerNorm((768,), eps=1e-05, elementwise_affine=True)\n",
       "  )\n",
       "  (lm_head): Linear(in_features=768, out_features=50257, bias=False)\n",
       ")"
      ]
     },
     "execution_count": 26,
     "metadata": {},
     "output_type": "execute_result"
    }
   ],
   "source": [
    "gpt2"
   ]
  },
  {
   "cell_type": "markdown",
   "id": "5fc794fd-d77b-4fd9-8059-cfb4681fa264",
   "metadata": {},
   "source": [
    "## Result\n",
    "\n",
    "So it seems like we could remove almost all of the elementwise affine operations! There's a final `ln_f` which we will remove now. (Note that even though it says `bias=False` there *is* actually a bias because of the `ln_f`!)\n"
   ]
  },
  {
   "cell_type": "code",
   "execution_count": 29,
   "id": "78d9cd7f-9554-491f-8574-11fa3bb8a842",
   "metadata": {
    "tags": []
   },
   "outputs": [
    {
     "data": {
      "text/plain": [
       "(torch.Size([50257, 768]), None)"
      ]
     },
     "execution_count": 29,
     "metadata": {},
     "output_type": "execute_result"
    }
   ],
   "source": [
    "gpt2.lm_head.weight.shape, gpt2.lm_head.bias"
   ]
  },
  {
   "cell_type": "code",
   "execution_count": 85,
   "id": "84670705-f40c-4766-b8a8-6ba523fb814b",
   "metadata": {
    "tags": []
   },
   "outputs": [],
   "source": [
    "def remove_ln_f(model):\n",
    "    # there is originally no bias here\n",
    "    ln = model.transformer.ln_f\n",
    "    fc = model.lm_head\n",
    "    \n",
    "    '''\n",
    "    gpt2.transformer:\n",
    "    hidden_states = self.ln_f(hidden_states)\n",
    "    hidden_states = hidden_states.view(output_shape)\n",
    "    '''\n",
    "    \n",
    "    with torch.no_grad():\n",
    "        weight_orig = fc.weight.data.clone()\n",
    "        # needs to be done because weights are \"tied\" by HuggingFace\n",
    "        # (they point to the same thing as the original embedding matrix)\n",
    "        fc.weight = torch.nn.Parameter(fc.weight * ln.weight)\n",
    "        fc.bias = torch.nn.Parameter(weight_orig @ ln.bias.data.clone())\n",
    "\n",
    "        ln.elementwise_affine = False\n",
    "        ln.weight[:] = 1\n",
    "        ln.bias[:] = 0\n"
   ]
  },
  {
   "cell_type": "code",
   "execution_count": 35,
   "id": "d3e01176-72b4-4831-9f68-155e76a48017",
   "metadata": {
    "tags": []
   },
   "outputs": [
    {
     "data": {
      "text/plain": [
       "tensor([ 4.7654,  6.5866,  1.7553,  ...,  9.5762, 15.3242,  6.8427],\n",
       "       device='cuda:0', grad_fn=<SqueezeBackward4>)"
      ]
     },
     "execution_count": 35,
     "metadata": {},
     "output_type": "execute_result"
    }
   ],
   "source": [
    "gpt2.lm_head(gpt2.transformer.ln_f(torch.arange(768, device='cuda').float()))"
   ]
  },
  {
   "cell_type": "code",
   "execution_count": 86,
   "id": "ef5c42f1-265d-40a5-a3b6-5b18997a0a95",
   "metadata": {
    "tags": []
   },
   "outputs": [],
   "source": [
    "gpt2 = transformers.GPT2LMHeadModel.from_pretrained(\"openai-community/gpt2\").to(\"cuda\")\n",
    "gpt2_orig = transformers.GPT2LMHeadModel.from_pretrained(\"openai-community/gpt2\").to(\"cuda\")\n",
    "gpt2_tokenizer = transformers.GPT2Tokenizer.from_pretrained(\"openai-community/gpt2\")\n",
    "\n",
    "lnf_b_orig = gpt2.transformer.ln_f.bias.clone()\n",
    "lnf_W_orig = gpt2.transformer.ln_f.weight.clone()\n",
    "lmh_W_orig = gpt2.lm_head.weight.clone()\n"
   ]
  },
  {
   "cell_type": "code",
   "execution_count": 72,
   "id": "a93de272-b59f-4ae1-b69a-4ffa51dc9d87",
   "metadata": {
    "tags": []
   },
   "outputs": [],
   "source": [
    "@torch.no_grad()\n",
    "def sample(gpt2):\n",
    "    return gpt2(**gpt2_tokenizer(\"hello world!\", return_tensors='pt').to('cuda'), output_hidden_states=True)"
   ]
  },
  {
   "cell_type": "code",
   "execution_count": 87,
   "id": "bcc3473d-55c3-421e-8741-1ef47b8ce7bd",
   "metadata": {
    "tags": []
   },
   "outputs": [
    {
     "name": "stdout",
     "output_type": "stream",
     "text": [
      "Parameter containing:\n",
      "tensor([ -6.3267,  -6.1134,  -8.2121,  ..., -11.1459, -10.8880,  -6.1064],\n",
      "       device='cuda:0', requires_grad=True)\n"
     ]
    },
    {
     "data": {
      "text/plain": [
       "tensor(4.5776e-05, device='cuda:0')"
      ]
     },
     "execution_count": 87,
     "metadata": {},
     "output_type": "execute_result"
    }
   ],
   "source": [
    "gpt2.lm_head.bias = None\n",
    "gpt2.load_state_dict(gpt2_orig.state_dict())\n",
    "\n",
    "remove_ln_f(gpt2)\n",
    "\n",
    "print(gpt2.lm_head.bias)\n",
    "\n",
    "result_finale = sample(gpt2)\n",
    "result_orig = sample(gpt2_orig)\n",
    "\n",
    "(result_finale.logits - result_orig.logits).abs().max()"
   ]
  },
  {
   "cell_type": "code",
   "execution_count": 88,
   "id": "cee535b4-7748-44c4-9c03-836b91268f0e",
   "metadata": {
    "tags": []
   },
   "outputs": [
    {
     "data": {
      "text/plain": [
       "tensor([[[-0.0617,  0.0007, -0.3006,  ..., -0.1671, -0.0038, -0.1409],\n",
       "         [-0.2276,  0.0651, -0.1504,  ..., -0.1922, -0.1107,  0.2989],\n",
       "         [ 0.0478, -0.2524, -0.1154,  ..., -0.0455, -0.0334,  0.0451]]],\n",
       "       device='cuda:0')"
      ]
     },
     "execution_count": 88,
     "metadata": {},
     "output_type": "execute_result"
    }
   ],
   "source": [
    "result_orig.hidden_states[-1]"
   ]
  },
  {
   "cell_type": "code",
   "execution_count": 89,
   "id": "c6c2e33f-59a4-4cd4-a263-9ed093457259",
   "metadata": {
    "tags": []
   },
   "outputs": [
    {
     "data": {
      "text/plain": [
       "tensor([[[ -37.0708,  -36.4855,  -40.3520,  ...,  -46.5168,  -45.4142,\n",
       "           -37.9090],\n",
       "         [ -69.5277,  -65.2476,  -74.2180,  ...,  -80.8885,  -76.5055,\n",
       "           -70.8534],\n",
       "         [ -93.6960,  -93.7839,  -94.6315,  ..., -104.1838, -102.1104,\n",
       "           -89.3226]]], device='cuda:0')"
      ]
     },
     "execution_count": 89,
     "metadata": {},
     "output_type": "execute_result"
    }
   ],
   "source": [
    "result_orig.logits"
   ]
  },
  {
   "cell_type": "code",
   "execution_count": 90,
   "id": "24eac61a-5c4d-4603-90bb-79171de03d2c",
   "metadata": {
    "tags": []
   },
   "outputs": [
    {
     "data": {
      "text/plain": [
       "tensor([[[ -37.0708,  -36.4855,  -40.3520,  ...,  -46.5168,  -45.4142,\n",
       "           -37.9090],\n",
       "         [ -69.5277,  -65.2476,  -74.2180,  ...,  -80.8885,  -76.5055,\n",
       "           -70.8534],\n",
       "         [ -93.6960,  -93.7838,  -94.6315,  ..., -104.1838, -102.1103,\n",
       "           -89.3226]]], device='cuda:0', grad_fn=<ViewBackward0>)"
      ]
     },
     "execution_count": 90,
     "metadata": {},
     "output_type": "execute_result"
    }
   ],
   "source": [
    "gpt2.lm_head((result_orig.hidden_states[-1] - lnf_b_orig) / lnf_W_orig)"
   ]
  },
  {
   "cell_type": "code",
   "execution_count": 91,
   "id": "33e20fd4-fc2c-4796-bb00-6145a35957f4",
   "metadata": {
    "tags": []
   },
   "outputs": [
    {
     "data": {
      "text/plain": [
       "tensor([[0., 0., 0.,  ..., 0., 0., 0.],\n",
       "        [0., 0., 0.,  ..., 0., 0., 0.],\n",
       "        [0., 0., 0.,  ..., 0., 0., 0.],\n",
       "        ...,\n",
       "        [0., 0., 0.,  ..., 0., 0., 0.],\n",
       "        [0., 0., 0.,  ..., 0., 0., 0.],\n",
       "        [0., 0., 0.,  ..., 0., 0., 0.]], device='cuda:0',\n",
       "       grad_fn=<SubBackward0>)"
      ]
     },
     "execution_count": 91,
     "metadata": {},
     "output_type": "execute_result"
    }
   ],
   "source": [
    "gpt2.transformer.wte.weight - gpt2_orig.transformer.wte.weight"
   ]
  },
  {
   "cell_type": "code",
   "execution_count": 92,
   "id": "aac364f2-8bf5-4a02-b897-a3ba528fcdd8",
   "metadata": {
    "tags": []
   },
   "outputs": [
    {
     "data": {
      "text/plain": [
       "(tensor([[[-0.1007, -0.3921,  0.0049,  ..., -0.2066,  0.0256,  0.0360],\n",
       "          [-0.1248,  0.0981, -0.0892,  ..., -0.2765,  0.2175,  0.0375],\n",
       "          [-0.1059, -0.1240,  0.0876,  ..., -0.1166,  0.0344,  0.0239]]],\n",
       "        device='cuda:0'),\n",
       " tensor([[[-0.1007, -0.3921,  0.0049,  ..., -0.2066,  0.0256,  0.0360],\n",
       "          [-0.1248,  0.0981, -0.0892,  ..., -0.2765,  0.2175,  0.0375],\n",
       "          [-0.1059, -0.1240,  0.0876,  ..., -0.1166,  0.0344,  0.0239]]],\n",
       "        device='cuda:0'))"
      ]
     },
     "execution_count": 92,
     "metadata": {},
     "output_type": "execute_result"
    }
   ],
   "source": [
    "result_orig.hidden_states[0], result_finale.hidden_states[0]"
   ]
  },
  {
   "cell_type": "code",
   "execution_count": 93,
   "id": "c6fd8728-3b05-4c3d-ab4f-9bdd83f7f3e6",
   "metadata": {
    "tags": []
   },
   "outputs": [
    {
     "data": {
      "text/plain": [
       "tensor([[[-0.0450, -0.0261, -0.1236,  ..., -0.1423,  0.0198, -0.1453],\n",
       "         [-0.1637,  0.0208, -0.0440,  ..., -0.1650, -0.0776,  0.2191],\n",
       "         [ 0.0334, -0.2102, -0.0255,  ..., -0.0321, -0.0072,  0.0088]]],\n",
       "       device='cuda:0')"
      ]
     },
     "execution_count": 93,
     "metadata": {},
     "output_type": "execute_result"
    }
   ],
   "source": [
    "result_finale.hidden_states[-1]"
   ]
  },
  {
   "cell_type": "code",
   "execution_count": 94,
   "id": "8f6d867d-f979-4823-bcbc-e27041f07cf7",
   "metadata": {
    "tags": []
   },
   "outputs": [
    {
     "data": {
      "text/plain": [
       "tensor([[[ -37.0708,  -36.4855,  -40.3520,  ...,  -46.5168,  -45.4142,\n",
       "           -37.9090],\n",
       "         [ -69.5277,  -65.2476,  -74.2180,  ...,  -80.8885,  -76.5055,\n",
       "           -70.8534],\n",
       "         [ -93.6960,  -93.7838,  -94.6315,  ..., -104.1838, -102.1103,\n",
       "           -89.3226]]], device='cuda:0')"
      ]
     },
     "execution_count": 94,
     "metadata": {},
     "output_type": "execute_result"
    }
   ],
   "source": [
    "result_finale.logits"
   ]
  },
  {
   "cell_type": "code",
   "execution_count": 95,
   "id": "24d47ee6-57fd-454d-84fa-3c4bc9b50769",
   "metadata": {
    "tags": []
   },
   "outputs": [
    {
     "data": {
      "text/plain": [
       "Parameter containing:\n",
       "tensor([ -6.3267,  -6.1134,  -8.2121,  ..., -11.1459, -10.8880,  -6.1064],\n",
       "       device='cuda:0', requires_grad=True)"
      ]
     },
     "execution_count": 95,
     "metadata": {},
     "output_type": "execute_result"
    }
   ],
   "source": [
    "gpt2.lm_head.bias"
   ]
  },
  {
   "cell_type": "code",
   "execution_count": 98,
   "id": "8c773b5c-f6db-4af0-a9cf-eb8c9171ee6c",
   "metadata": {
    "tags": []
   },
   "outputs": [
    {
     "data": {
      "text/plain": [
       "(tensor([[[-0.0617,  0.0007, -0.3006,  ..., -0.1671, -0.0038, -0.1409],\n",
       "          [-0.2276,  0.0651, -0.1504,  ..., -0.1922, -0.1107,  0.2989],\n",
       "          [ 0.0478, -0.2524, -0.1154,  ..., -0.0455, -0.0334,  0.0451]]],\n",
       "        device='cuda:0', grad_fn=<AddBackward0>),\n",
       " tensor([[[-0.0617,  0.0007, -0.3006,  ..., -0.1671, -0.0038, -0.1409],\n",
       "          [-0.2276,  0.0651, -0.1504,  ..., -0.1922, -0.1107,  0.2989],\n",
       "          [ 0.0478, -0.2524, -0.1154,  ..., -0.0455, -0.0334,  0.0451]]],\n",
       "        device='cuda:0'))"
      ]
     },
     "execution_count": 98,
     "metadata": {},
     "output_type": "execute_result"
    }
   ],
   "source": [
    "(result_finale.hidden_states[-1] * lnf_W_orig + lnf_b_orig), (result_orig.hidden_states[-1])"
   ]
  },
  {
   "cell_type": "markdown",
   "id": "67a6412e-9ad0-4f2b-a277-9fd4916b05b6",
   "metadata": {},
   "source": [
    "## Result\n",
    "\n",
    "We have shown that we can effectively remove the `elementwise_affine` component of each LayerNorm. This will make the relationships between intermediate activations significantly more linear.\n"
   ]
  },
  {
   "cell_type": "markdown",
   "id": "2fe7c0c3-5ef2-4ede-81b4-6b9d6b1eb83d",
   "metadata": {},
   "source": [
    "## Causal relationships\n",
    "\n",
    "Let's see if we can compare correlations between MLP activations. (Using these improved matrices) So we might expect that we have bigram relationships modeled between the lm head and the word embeddings. Can also see the relationship between positional encodings and each word."
   ]
  },
  {
   "cell_type": "code",
   "execution_count": 104,
   "id": "190942e9-da85-420e-966d-4c92549fd417",
   "metadata": {
    "tags": []
   },
   "outputs": [
    {
     "data": {
      "text/plain": [
       "<torch.autograd.grad_mode.set_grad_enabled at 0x7f29a698c890>"
      ]
     },
     "execution_count": 104,
     "metadata": {},
     "output_type": "execute_result"
    }
   ],
   "source": [
    "torch.set_grad_enabled(False)"
   ]
  },
  {
   "cell_type": "code",
   "execution_count": 109,
   "id": "06e6b54c-d5d2-4865-8ed9-1ef18c4c780a",
   "metadata": {},
   "outputs": [],
   "source": [
    "bigram_corr_matrix = gpt2.lm_head.weight @ gpt2.transformer.wte.weight.T"
   ]
  },
  {
   "cell_type": "code",
   "execution_count": 110,
   "id": "221dc2c2-1233-4094-8412-b3d244739d1a",
   "metadata": {
    "tags": []
   },
   "outputs": [],
   "source": [
    "pos_corr_matrix = gpt2.lm_head.weight @ gpt2.transformer.wpe.weight.T"
   ]
  },
  {
   "cell_type": "code",
   "execution_count": 111,
   "id": "5c2d8ea5-3034-4d4f-964f-e581f2df6e30",
   "metadata": {
    "tags": []
   },
   "outputs": [
    {
     "data": {
      "text/plain": [
       "tensor([[-2.5471e+00, -5.4091e+00, -2.3274e+00,  ..., -7.3445e+00,\n",
       "         -7.6868e+00, -1.1570e-02],\n",
       "        [-1.1365e+00, -4.7076e+00, -1.4911e+00,  ..., -6.9785e+00,\n",
       "         -7.1958e+00, -2.4630e-03],\n",
       "        [-1.3125e+00, -4.2784e+00, -1.3093e+00,  ..., -7.3957e+00,\n",
       "         -7.5783e+00, -1.6481e-02],\n",
       "        ...,\n",
       "        [-4.8832e+00, -4.9813e+00, -1.7743e+00,  ..., -7.5792e+00,\n",
       "         -7.7585e+00, -1.5871e-02],\n",
       "        [-4.2381e+00, -6.3743e+00, -3.3911e+00,  ..., -8.2380e+00,\n",
       "         -8.5629e+00,  1.1326e-02],\n",
       "        [-1.4537e+00, -6.3225e+00, -2.9076e+00,  ..., -6.4535e+00,\n",
       "         -6.7289e+00, -5.0177e-03]], device='cuda:0')"
      ]
     },
     "execution_count": 111,
     "metadata": {},
     "output_type": "execute_result"
    }
   ],
   "source": [
    "pos_corr_matrix"
   ]
  },
  {
   "cell_type": "code",
   "execution_count": 142,
   "id": "bd1c52f7-63a3-4ef4-9ebd-a3adccac5bd9",
   "metadata": {
    "tags": []
   },
   "outputs": [
    {
     "name": "stdout",
     "output_type": "stream",
     "text": [
      "ignty\n",
      "wcsstore\n",
      "�\n",
      "estone\n",
      "ignt\n",
      "���\n",
      "eg\n",
      "arest\n",
      "ebook\n",
      "estones\n"
     ]
    }
   ],
   "source": [
    "ranked = pos_corr_matrix[:, 0].argsort(descending=True)\n",
    "for i in range(10):\n",
    "    print(gpt2_tokenizer.decode(ranked[i]))"
   ]
  },
  {
   "cell_type": "code",
   "execution_count": 179,
   "id": "862a1786-24d9-4097-be31-aed80b00e46d",
   "metadata": {
    "tags": []
   },
   "outputs": [
    {
     "name": "stdout",
     "output_type": "stream",
     "text": [
      "[32]\n",
      ">A 17.77\n",
      ">ccording 16.88\n",
      "> challeng 16.65\n",
      "> mathemat 16.59\n",
      "> destro 16.34\n",
      "> conduc 16.24\n",
      "> corrid 16.21\n",
      "> helicop 16.11\n",
      "> unden 15.93\n",
      "> misunder 15.92\n"
     ]
    }
   ],
   "source": [
    "# Result for using the transformed weights\n",
    "ids = gpt2_tokenizer(\"A\").input_ids\n",
    "print(ids)\n",
    "tok = ids[0]\n",
    "ranked = bigram_corr_matrix[:, tok].argsort(descending=True)\n",
    "for i in range(10):\n",
    "    token = gpt2_tokenizer.decode(ranked[i])\n",
    "    similarity = bigram_corr_matrix[ranked[i], tok].item()\n",
    "    print(f\">{token} {similarity:.2f}\")"
   ]
  },
  {
   "cell_type": "code",
   "execution_count": 184,
   "id": "1689d4b7-8223-4dcb-8748-9c729a349ee0",
   "metadata": {
    "tags": []
   },
   "outputs": [
    {
     "name": "stdout",
     "output_type": "stream",
     "text": [
      "[32]\n",
      ">A 8.25\n",
      "> A 5.61\n",
      ">An 5.50\n",
      ">a 5.36\n",
      ">E 5.31\n",
      ">The 5.29\n",
      ">B 5.24\n",
      ">I 5.24\n",
      ">C 5.18\n",
      ">D 5.09\n"
     ]
    }
   ],
   "source": [
    "with torch.no_grad():\n",
    "    ids = gpt2_tokenizer(\"A\").input_ids\n",
    "    print(ids)\n",
    "    tok = ids[0]\n",
    "    bigram_corr_matrix_orig = gpt2.transformer.wte.weight @ gpt2.transformer.wte.weight.T[:, tok]\n",
    "\n",
    "    ranked = bigram_corr_matrix_orig.argsort(descending=True)\n",
    "    for i in range(10):\n",
    "        token = gpt2_tokenizer.decode(ranked[i])\n",
    "        similarity = bigram_corr_matrix_orig[ranked[i]].item()\n",
    "        print(f\">{token} {similarity:.2f}\")\n"
   ]
  },
  {
   "cell_type": "markdown",
   "id": "cd1316d3-6fbc-4f4f-87f1-b10b6a4cd20f",
   "metadata": {},
   "source": [
    "# Step 2. See What Causes Different Outputs\n",
    "\n",
    "Now, we can represent any intermediate hidden state as a weighted sum of the MLP neuron activations that came before. And in fact, we can anticipate the activation of any given attention head solely as a function of which MLP neurons were active beforehand, and **avoid using the residual stream at all**!\n",
    "\n",
    "As a simple example, we can do the reverse of the ranking scheme I showed before, and try to find which words *induce* other words to be output.\n",
    "\n",
    "But it doesn't seem like there's a ton of insight here.\n"
   ]
  },
  {
   "cell_type": "code",
   "execution_count": 201,
   "id": "a8607e3b-a7e0-4233-8ce6-244dea2c4cf8",
   "metadata": {
    "tags": []
   },
   "outputs": [
    {
     "name": "stdout",
     "output_type": "stream",
     "text": [
      "[282]\n",
      ">al 22.82\n",
      ">alist 19.45\n",
      ">aler 18.43\n",
      ">alis 18.16\n",
      ">als 17.80\n",
      ">alam 17.44\n",
      ">aled 17.29\n",
      ">alm 17.22\n",
      ">AL 17.22\n",
      ">aling 17.20\n"
     ]
    }
   ],
   "source": [
    "# Result for using the transformed weights\n",
    "ids = gpt2_tokenizer(\"al\").input_ids\n",
    "print(ids)\n",
    "tok = ids[0]\n",
    "ranked = bigram_corr_matrix[tok, :].argsort(descending=True)\n",
    "for i in range(10):\n",
    "    token = gpt2_tokenizer.decode(ranked[i])\n",
    "    similarity = bigram_corr_matrix[tok, ranked[i]].item()\n",
    "    print(f\">{token} {similarity:.2f}\")"
   ]
  },
  {
   "cell_type": "code",
   "execution_count": 212,
   "id": "37205238-df09-4cbf-b581-c5829a797d0f",
   "metadata": {
    "tags": []
   },
   "outputs": [],
   "source": [
    "# del bigram_corr_matrix\n",
    "# del pos_corr_matrix\n",
    "torch.cuda.empty_cache()"
   ]
  },
  {
   "cell_type": "code",
   "execution_count": 216,
   "id": "d1fc98cd-6807-47e9-aab2-13d1696429b9",
   "metadata": {
    "tags": []
   },
   "outputs": [],
   "source": [
    "causality = gpt2.lm_head.weight @ gpt2.transformer.h[0].mlp.c_proj.weight.T"
   ]
  },
  {
   "cell_type": "code",
   "execution_count": 218,
   "id": "1426ed22-6bdf-42ac-93ec-d3e26de7fb63",
   "metadata": {
    "tags": []
   },
   "outputs": [
    {
     "data": {
      "text/plain": [
       "torch.Size([50257, 3072])"
      ]
     },
     "execution_count": 218,
     "metadata": {},
     "output_type": "execute_result"
    }
   ],
   "source": [
    "causality.shape"
   ]
  },
  {
   "cell_type": "markdown",
   "id": "ecaa9b25-b4ac-41a0-bebd-3e1a9d52eca1",
   "metadata": {},
   "source": [
    "## Tracing what causes MLP neurons to activate\n",
    "\n",
    "To do this, we will need to search for semi-linear correlations. I think that the relationships between many of these things are quite complex. However maybe we can look at value matrices and see.\n",
    "\n",
    "I think first I'll look at what causes a given attention head to activate. We can reason about this via gradients.\n",
    "\n",
    "$$\n",
    "\\alpha_{qk} = (W_{hq}X_q)^\\top(W_{hk}X_k)\n",
    "$$\n",
    "\n",
    "We now operate under the knowledge that *all* residual states can be expressed in the form:\n",
    "$$\n",
    "\\operatorname{ResidualStream^{(\\ell)}} = \\operatorname{LayerNorm}\\left(\n",
    "    \\operatorname{WordEmbed}(\\operatorname{Word}(k)) + \\operatorname{PosEmbed}(k) + \n",
    "    \\sum_{\\ell = 0}^{L} \\sum_{j = 0}^{d_{hidden}} \\operatorname{MLPActivation}^{(\\ell)}_j \\operatorname{MLPEmbedding}^{(\\ell)}_j\n",
    "\\right)\n",
    "$$"
   ]
  },
  {
   "cell_type": "markdown",
   "id": "373f2395-944f-49b3-bc07-6f59b1819eb1",
   "metadata": {},
   "source": [
    "Wherein Word(k) represents the token ID at index $k$, and the MLPActivation/MLPEmbedding expressions represent hidden states in the MLP.\n",
    "\n",
    "We note that the inner term is now a linear function of Word(k), PosEmbed(k), and MLPActivation$_j^{(\\ell)}$. Therefore, we can try to compile this hidden state into $S^{(\\ell)}$, abbreviating \"(s)parse state\", along with a weight matrix to project into the residual stream. Let's denote $W_{xs}$ as a weight matrix that converts from the sparse state representation into the compressed representation used in the residual stream:\n",
    "$$\n",
    "X^{(\\ell)} = \\operatorname{ResidualStream}^{(\\ell)} = \\operatorname{LayerNorm}\\left( W_{xs} S^{(\\ell)} \\right)\n",
    "$$\n",
    "We note that this is (very nearly) a linear function of $S^{(\\ell)}$, as LayerNorm simply scales and translates all vector dimensions by the standard deviation and mean. So the relative dimension activations are the same, and fairly approximately true.\n",
    "\n",
    "So let's just pretend that the LayerNorm is the identity. Now, let's try to compute the attention between key $k$ and query $q$ (taking the $\\sqrt{n}$ from the \"scaled\" in \"scaled dot-product attention\"):\n",
    "$$\n",
    "\\sqrt{n} \\alpha_{kq} = (W_k X_k)^\\top (W_q X_q) = X_k^\\top(W_k^\\top W_q X_q) \n",
    "$$\n",
    "Writing this in sparse terms,\n",
    "$$\n",
    "\\sqrt{n} \\alpha_{kq} = (W_k W_{xs} S_k)^\\top (W_q W_{xs} S_q) = S_k^\\top (W_{xs}^\\top W_k^\\top W_q W_{xs} S_q) = (S_k^\\top W_{xs}^\\top W_k^\\top W_q W_{xs}) S_q\n",
    "$$\n",
    "This means that when we fix $S_k$, we approximately get a linear function of $S_q$ (of course, except for the bias and scaling terms induced by the LayerNorm).\n",
    "\n",
    "Finally, we note that the values that get input to the MLP are $\\sum_{k} \\operatorname{Softmax}(\\alpha_{kq}) W_v X_v$ (if we assume $X_k = X_v$, as is the case in virtually every attention scheme, including cross-attention, the values are $\\sum_{k} \\operatorname{Softmax}(\\alpha_{kq}) W_v X_k$)"
   ]
  },
  {
   "cell_type": "markdown",
   "id": "3f8e2b29-fe7b-4f58-92ef-1bf3d48cf49b",
   "metadata": {},
   "source": [
    "Now let's try expanding this:\n",
    "$$\n",
    "\\begin{align*}\n",
    "\\sum_{k} \\operatorname{Softmax}(\\alpha_{kq}) W_v X_k\n",
    "    &= \\sum_{k} \\operatorname{Softmax}\\left(n^{-1/2} (S_k^\\top W_{xs}^\\top W_k^\\top W_q W_{xs}) S_q\\right) W_v X_k \\\\\n",
    "    &= \\sum_{k} \\operatorname{Softmax}\\left(n^{-1/2} (S_k^\\top W_{xs}^\\top W_k^\\top W_q W_{xs}) S_q\\right) W_v W_{xs} S_k \\\\\n",
    "    &= \\sum_{k} \\operatorname{Softmax}\\left(n^{-1/2} (S_q^\\top W_{xs}^\\top W_q^\\top W_k W_{xs}) S_k\\right) W_v W_{xs} S_k\n",
    "\\end{align*}\n",
    "$$"
   ]
  },
  {
   "cell_type": "markdown",
   "id": "e16c2e24-2e68-4387-aef3-584542052100",
   "metadata": {},
   "source": [
    "This gets added *back* to the residual stream, before being sent through another LayerNorm and eventually the MLP. So this is what MLP hidden state looks like (pre-activation):\n",
    "$$\n",
    "\\begin{align*}\n",
    "\\text{MLPHiddenStatePreActivation}\n",
    " &= W_{mlp}^\\top \\left(W_{xs} S_q + \\sum_{k} \\operatorname{Softmax}\\left(n^{-1/2} (S_q^\\top W_{xs}^\\top W_q^\\top W_k W_{xs}) S_k\\right) W_v W_{xs} S_k\\right) \\\\\n",
    " &= W_{mlp}^\\top W_{xs} S_q + \\sum_{k} \\operatorname{Softmax}\\left(n^{-1/2} (S_q^\\top W_{xs}^\\top W_q^\\top W_k W_{xs}) S_k\\right) W_{mlp}^\\top W_v W_{xs} S_k\n",
    "\\end{align*}\n",
    "$$\n"
   ]
  },
  {
   "cell_type": "markdown",
   "id": "50ba301f-662b-4bac-b246-7cd68d044777",
   "metadata": {},
   "source": [
    "OK, this looks great. We should be able to quantify the contribution to the activation of any given attention head given a sparse state. And the nice thing is that it looks very very pseudo-linear as a function of $S_q$ and $S_k$. The interesting thing is the $\\text{Softmax}$ term, which modulates the contribution of each other token. (Also, we're getting very very close to quantifying an MLP hidden neuron's activation as a function of prior sparse states!)\n",
    "\n",
    "Let's try to inspect the Softmax activation in a bit more detail, by constructing the matrix by which $S_q$ gets projected in order to match to $S_k$.\n"
   ]
  },
  {
   "cell_type": "code",
   "execution_count": 223,
   "id": "7dccbfa9-60db-4668-b7e3-b1b368e77b61",
   "metadata": {
    "tags": []
   },
   "outputs": [
    {
     "data": {
      "text/plain": [
       "(50257, 1024)"
      ]
     },
     "execution_count": 223,
     "metadata": {},
     "output_type": "execute_result"
    }
   ],
   "source": [
    "GPT2_VOCAB_SIZE = gpt2.lm_head.weight.shape[0]\n",
    "GPT2_MAX_POS_EMB = gpt2.transformer.wpe.weight.shape[0]\n",
    "GPT2_VOCAB_SIZE, GPT2_MAX_POS_EMB"
   ]
  },
  {
   "cell_type": "code",
   "execution_count": 273,
   "id": "1358175b-e1c1-40b4-ac0b-5a3a4a2197df",
   "metadata": {
    "tags": []
   },
   "outputs": [
    {
     "name": "stdout",
     "output_type": "stream",
     "text": [
      "[15496]\n"
     ]
    }
   ],
   "source": [
    "# Let's say we have the token \"Hello\" and we want to see what activates in response.\n",
    "sparse_tensor = torch.zeros((GPT2_VOCAB_SIZE + GPT2_MAX_POS_EMB)).cuda()\n",
    "\n",
    "ids = gpt2_tokenizer(\"Hello\").input_ids\n",
    "print(ids)\n",
    "tok = ids[0]\n",
    "\n",
    "sparse_tensor[tok] = 1\n",
    "sparse_tensor[GPT2_VOCAB_SIZE + 0] = 1\n",
    "\n",
    "W_xs = torch.cat([gpt2.transformer.wte.weight, gpt2.transformer.wpe.weight], dim=0).T"
   ]
  },
  {
   "cell_type": "code",
   "execution_count": 274,
   "id": "6ac8d113-4724-4073-9804-9478a0d3ebf7",
   "metadata": {
    "tags": []
   },
   "outputs": [],
   "source": [
    "expected_hidden_state = W_xs @ sparse_tensor"
   ]
  },
  {
   "cell_type": "code",
   "execution_count": 275,
   "id": "9eec131e-e686-45ef-bb4b-1e7491732a6d",
   "metadata": {
    "tags": []
   },
   "outputs": [],
   "source": [
    "output = gpt2(input_ids=torch.tensor([15496], device='cuda'), output_hidden_states=True)"
   ]
  },
  {
   "cell_type": "code",
   "execution_count": 276,
   "id": "80a3dbdb-f4f2-40e4-9fa3-da8cf99f0e95",
   "metadata": {
    "tags": []
   },
   "outputs": [
    {
     "data": {
      "text/plain": [
       "'Error: 0.0'"
      ]
     },
     "execution_count": 276,
     "metadata": {},
     "output_type": "execute_result"
    }
   ],
   "source": [
    "\"Error: \" + str((output.hidden_states[0] - expected_hidden_state).abs().max().item())"
   ]
  },
  {
   "cell_type": "markdown",
   "id": "9abd59fe-61ab-468a-8aa7-e0e07cc96d0d",
   "metadata": {},
   "source": [
    "So we've constructed $W_{xs}$ and we now need $W_q$ and $W_k$ for the corresponding head, and $W_{mlp}$.\n"
   ]
  },
  {
   "cell_type": "code",
   "execution_count": 259,
   "id": "ace2f22b-a7cf-4894-8bf6-ea20ba62c09e",
   "metadata": {
    "tags": []
   },
   "outputs": [
    {
     "data": {
      "text/plain": [
       "(64, torch.Size([768, 2304]))"
      ]
     },
     "execution_count": 259,
     "metadata": {},
     "output_type": "execute_result"
    }
   ],
   "source": [
    "# 3 groups of 12 heads of dimension 64 (query, key, and value groups)\n",
    "gpt2.transformer.h[0].attn.head_dim, gpt2.transformer.h[0].attn.c_attn.weight.shape"
   ]
  },
  {
   "cell_type": "code",
   "execution_count": 266,
   "id": "3c34a416-7fb7-493b-bf2a-97754020a5ff",
   "metadata": {
    "tags": []
   },
   "outputs": [
    {
     "data": {
      "text/plain": [
       "(768, 64)"
      ]
     },
     "execution_count": 266,
     "metadata": {},
     "output_type": "execute_result"
    }
   ],
   "source": [
    "# this is used to split the result after matmul\n",
    "split_size = gpt2.transformer.h[0].attn.split_size\n",
    "head_dim = gpt2.transformer.h[0].attn.head_dim\n",
    "split_size, head_dim"
   ]
  },
  {
   "cell_type": "code",
   "execution_count": 267,
   "id": "923dd4f7-8d2e-44a5-ab0f-869d974e005b",
   "metadata": {
    "tags": []
   },
   "outputs": [],
   "source": [
    "qkv_weight = gpt2.transformer.h[0].attn.c_attn.weight\n",
    "# torch.split returns \"views\", which are more memory-efficient than creating slices I think\n",
    "query_weights, key_weights, value_weights = torch.split(qkv_weight, split_size, dim=-1)\n",
    "query_weights_per_head = torch.split(query_weights, head_dim, dim=-1)\n",
    "key_weights_per_head = torch.split(key_weights, head_dim, dim=-1)\n",
    "value_weights_per_head = torch.split(key_weights, head_dim, dim=-1)"
   ]
  },
  {
   "cell_type": "markdown",
   "id": "dc94a71b-805e-4fd7-a0cc-9028df214d11",
   "metadata": {},
   "source": [
    "Let's give a name for the monster matrix that multiplies $S_q$. We'll just call it $M$ for \"match matrix\".\n",
    "$$\n",
    "\\begin{align*}\n",
    "    M &= W_{xs}^\\top W_k^\\top W_q W_{xs} \\\\\n",
    "    AttnScore &= Softmax(S_k^\\top M S_q)\n",
    "\\end{align*}\n",
    "$$\n",
    "Then $MS_q$ represents what the query is looking for in $S_k$ (for the given attention head)\n"
   ]
  },
  {
   "cell_type": "code",
   "execution_count": 283,
   "id": "d5009f9b-6a0c-4667-a426-23500481fc49",
   "metadata": {
    "tags": []
   },
   "outputs": [],
   "source": [
    "num_heads = len(query_weights_per_head)\n",
    "M_per_head = [\n",
    "    W_xs.T @ key_weights_per_head[i] @ query_weights_per_head[i].T @ W_xs\n",
    "    for i in range(1)\n",
    "]"
   ]
  },
  {
   "cell_type": "code",
   "execution_count": 284,
   "id": "a611f183-78f6-434e-ab75-d5dc79e59fa3",
   "metadata": {
    "tags": []
   },
   "outputs": [
    {
     "data": {
      "text/plain": [
       "torch.Size([51281, 51281])"
      ]
     },
     "execution_count": 284,
     "metadata": {},
     "output_type": "execute_result"
    }
   ],
   "source": [
    "M_per_head[0].shape"
   ]
  },
  {
   "cell_type": "markdown",
   "id": "807fbc5e-6b5e-489e-8183-68182a0eec69",
   "metadata": {},
   "source": [
    "Unfortunately, $M$ also tends to be a monstrous matrix. BUT - it should tell us what the attention head is looking for!"
   ]
  },
  {
   "cell_type": "code",
   "execution_count": 287,
   "id": "75873bbd-a26c-4404-9186-264b067ae00b",
   "metadata": {
    "tags": []
   },
   "outputs": [
    {
     "data": {
      "text/plain": [
       "(50257, 50257)"
      ]
     },
     "execution_count": 287,
     "metadata": {},
     "output_type": "execute_result"
    }
   ],
   "source": [
    "M = M_per_head[0]\n",
    "divmod(M.argmax().item(), M.shape[0])"
   ]
  },
  {
   "cell_type": "code",
   "execution_count": 300,
   "id": "e5c17f4e-908e-43e4-8a6b-5474ce7cd9ac",
   "metadata": {
    "tags": []
   },
   "outputs": [],
   "source": [
    "max_val = M.max()\n",
    "results = []\n",
    "for i in range(M.shape[0]):\n",
    "    a = (M[i] == max_val).nonzero()\n",
    "    if len(a) > 0:\n",
    "        results.append((i, a))\n"
   ]
  },
  {
   "cell_type": "code",
   "execution_count": 304,
   "id": "f87effbc-ad55-4807-877c-c50932332c1c",
   "metadata": {
    "tags": []
   },
   "outputs": [],
   "source": [
    "values = M.cpu().flatten()"
   ]
  },
  {
   "cell_type": "code",
   "execution_count": 305,
   "id": "fecf39f5-34d3-467b-a3e0-c89e49301475",
   "metadata": {
    "tags": []
   },
   "outputs": [],
   "source": [
    "values = values.numpy()"
   ]
  },
  {
   "cell_type": "code",
   "execution_count": 308,
   "id": "34b0b4d7-0d43-4bcf-8d2c-45d92d8afa9a",
   "metadata": {
    "tags": []
   },
   "outputs": [],
   "source": [
    "# take a sample\n",
    "sample = values[::100000]"
   ]
  },
  {
   "cell_type": "code",
   "execution_count": 325,
   "id": "0ddf0392-deb0-4759-ab47-20ce0244edf1",
   "metadata": {
    "tags": []
   },
   "outputs": [],
   "source": [
    "diag = torch.diagonal(M)"
   ]
  },
  {
   "cell_type": "code",
   "execution_count": 327,
   "id": "d5295baa-a64d-4724-93a2-6d70be9be67d",
   "metadata": {
    "tags": []
   },
   "outputs": [],
   "source": [
    "diag = diag.cpu().numpy()"
   ]
  },
  {
   "cell_type": "code",
   "execution_count": 332,
   "id": "e8f6f1b5-7e14-4a78-8afa-3ecbddebc160",
   "metadata": {
    "tags": []
   },
   "outputs": [
    {
     "name": "stderr",
     "output_type": "stream",
     "text": [
      "/tmp/ipykernel_699757/92599048.py:4: RuntimeWarning: invalid value encountered in log10\n",
      "  plt.hist(np.log10(diag + 1))\n"
     ]
    },
    {
     "data": {
      "image/png": "[encoded data removed]",
      "text/plain": [
       "<Figure size 640x480 with 1 Axes>"
      ]
     },
     "metadata": {},
     "output_type": "display_data"
    }
   ],
   "source": [
    "import matplotlib.pyplot as plt\n",
    "import numpy as np\n",
    "\n",
    "plt.hist(np.log10(diag + 1))\n",
    "plt.ylabel(\"Intensity (log10)\")\n",
    "plt.xlabel(\"Correlation\")\n",
    "plt.show()"
   ]
  },
  {
   "cell_type": "code",
   "execution_count": 384,
   "id": "cc57770e-e75f-4a1c-b8bb-2423ba4682b8",
   "metadata": {
    "tags": []
   },
   "outputs": [
    {
     "name": "stdout",
     "output_type": "stream",
     "text": [
      "[4673]\n",
      "> neuro 28.46\n",
      "> therapist 25.26\n",
      "> cognitive 24.74\n",
      "> psychiatrist 24.21\n",
      "> neurological 24.16\n",
      "> Neuro 23.99\n",
      "> brain 23.87\n",
      "> mental 23.69\n",
      "> amygdala 23.66\n",
      "> neural 23.08\n"
     ]
    }
   ],
   "source": [
    "ids = gpt2_tokenizer(' learning').input_ids\n",
    "print(ids)\n",
    "tok = ids[0]\n",
    "# represents multiplying by S_q, a matrix with the word \" learning\" at position 100.\n",
    "searched_by_this = M[:, tok] + M[:, GPT2_VOCAB_SIZE + 100]\n",
    "ranked = searched_by_this[:GPT2_VOCAB_SIZE].argsort(descending=True)\n",
    "for i in range(10):\n",
    "    print(f\">{gpt2_tokenizer.decode(ranked[i])} {searched_by_this[ranked[i]]:.2f}\")"
   ]
  },
  {
   "cell_type": "markdown",
   "id": "be413040-15da-4e12-ac6c-71262542e59e",
   "metadata": {},
   "source": [
    "If we put an exclamation mark, it seems to search for words that you might find in an exclamation-mark setting. Also it seems like each head searches for several correlations simultaneously.\n",
    "\n",
    "So it seems like we can inject a word and a positional embedding to find out what is attended to, and the nice thing is that we can do all of this without ever even needing to consider the residual stream whatsoever. Also, there’s the incredibly surprising constraint that this is a completely linear function, so the contributions from the word used, and the contributions from the position of the word, are treated completely independently.\n",
    "\n",
    "Bringing back from earlier:\n",
    "$$\n",
    "\\begin{align*}\n",
    "\\text{MLPHiddenStatePreActivation}\n",
    " &= W_{mlp}^\\top W_{xs} S_q + \\sum_{k} \\operatorname{Softmax}\\left(n^{-1/2} \\cdot (MS_q)^\\top S_k\\right) W_{mlp}^\\top W_v W_{xs} S_k\n",
    "\\end{align*}\n",
    "$$\n",
    "\n",
    "Now we can think of this as weighting the value matrices in a certain way.\n",
    "If we maintain $S_k$ separately, we note that $MLP^{(i)} = \\sum_{k} AttnScore(S_k, S_q) \\left((W_{mlp}^{(i)})^\\top W_v W_{xs} \\right) S_k$\n",
    "\n",
    "This shows that indeed each MLP hidden neuron is just a linear function of $AttnScore(S_k, S_q) S_k$. This is, in some sense, the \"kernel\" of that neuron, wrt a given query ($S_q$). Why is it nice for this to be a linear function? It means that which features the MLP neurons attend to (in $S_k$) can be precomputed, and then weighted AFTERWARDS. In my opinion, this is *highly unintuitive* and represents an extreme case of independent features in the transformer.\n",
    "\n",
    "Let me clear once more: The MLP neuron's activation proportion for a particular value vector, is INITIALLY NOT DEPENDENT ON THE QUERY VECTOR WHATSOEVER (until scaled in attention weights).\n"
   ]
  },
  {
   "cell_type": "markdown",
   "id": "c0e1881b-1eb6-4645-83fa-89e442e555a8",
   "metadata": {},
   "source": [
    "Particularly, $\\nabla_{S_k} \\left((W_{mlp}^{(i)})^\\top W_v W_{xs} S_k \\right) = W_{xs}^\\top W_v^\\top W_{mlp}$"
   ]
  },
  {
   "cell_type": "code",
   "execution_count": 395,
   "id": "a81b0c75-7754-40ce-97dc-b7e994890110",
   "metadata": {
    "tags": []
   },
   "outputs": [],
   "source": [
    "W_mlp_per_head = torch.split(gpt2.transformer.h[0].mlp.c_fc.weight, head_dim, dim=0)"
   ]
  },
  {
   "cell_type": "code",
   "execution_count": 397,
   "id": "a1587f4c-1490-4bc1-b563-ad22d12c4496",
   "metadata": {
    "tags": []
   },
   "outputs": [
    {
     "data": {
      "text/plain": [
       "torch.Size([64, 3072])"
      ]
     },
     "execution_count": 397,
     "metadata": {},
     "output_type": "execute_result"
    }
   ],
   "source": [
    "W_mlp_per_head[0].shape"
   ]
  },
  {
   "cell_type": "code",
   "execution_count": 400,
   "id": "e7c17b1b-b782-4fe6-a408-e8f2921c717d",
   "metadata": {
    "tags": []
   },
   "outputs": [],
   "source": [
    "target = (W_xs.T @ value_weights_per_head[0] @ W_mlp_per_head[0])"
   ]
  },
  {
   "cell_type": "code",
   "execution_count": 442,
   "id": "732665e0-fe99-4804-9c2f-49c894604d52",
   "metadata": {
    "tags": []
   },
   "outputs": [
    {
     "name": "stdout",
     "output_type": "stream",
     "text": [
      "::: Words :::\n",
      "> epilepsy 6.22\n",
      ">Interstitial 6.19\n",
      "> seizures 5.99\n",
      "> Psychiatry 5.75\n",
      "> epile 5.67\n",
      "> ADHD 5.59\n",
      "> neuron 5.54\n",
      "> syndrome 5.47\n",
      "> neuronal 5.42\n",
      "> MDMA 5.30\n",
      "\n",
      "::: Positions :::\n",
      "pos 96: 5.22\n",
      "pos 100: 5.21\n",
      "pos 101: 5.20\n",
      "pos 103: 5.19\n",
      "pos 92: 5.19\n",
      "pos 95: 5.18\n",
      "pos 93: 5.18\n",
      "pos 91: 5.17\n",
      "pos 111: 5.17\n",
      "pos 99: 5.16\n"
     ]
    }
   ],
   "source": [
    "# What sparse features does MLP neuron 6 look for?\n",
    "neuron_num = 6\n",
    "ranked = target[:, neuron_num][:GPT2_VOCAB_SIZE].argsort(descending=True)\n",
    "print(\"::: Words :::\")\n",
    "for i in range(10):\n",
    "    print(f\">{gpt2_tokenizer.decode(ranked[i])} {target[:, neuron_num][ranked[i]]:.2f}\")\n",
    "print()\n",
    "print(\"::: Positions :::\")\n",
    "ranked = target[:, neuron_num][GPT2_VOCAB_SIZE:].argsort(descending=True)\n",
    "for i in range(10):\n",
    "    print(f\"pos {ranked[i]}: {target[:, neuron_num][GPT2_VOCAB_SIZE + ranked[i]]:.2f}\")\n",
    "\n"
   ]
  },
  {
   "cell_type": "markdown",
   "id": "0aa2d4c1-d200-447f-b6be-f22192188746",
   "metadata": {},
   "source": [
    "# Step 3: Construct a Causal Trace\n",
    "\n",
    "We would like to see which MLP activations are responsible for which other MLP activations. For example, the token \"Hello\" predicting the token \" world\".\n",
    "\n",
    "To do this, we can look at the unembedding for the word \" world\" and see which MLP activations contribute the most. Is this invariant to the combination of activations that are provided? Well, let $e^{-1}$ be the unembedding for the word \" world\". Then the activation of world $\\log P(world|\\ldots)$ can be written as $e^{-1} \\text{ResidualStream}$, which is (up to a single LayerNorm applied at the end) linear w.r.t. all MLP activations (which contribute their own little vectors towards the residual stream). So we will always have the LayerNorm caveat (If we find a better way to ensure that hidden states don't explode, we can also try finetuning an existing nn towards that).\n",
    "\n",
    "The interesting thing is that MLP activations, word embeddings, and positional embeddings are the ONLY thing impacting the output for \" world\", and they can each be inspected individually.\n",
    "\n",
    "Maybe we can call this the \"sparse activation kernel\" for the token \" world\".\n",
    "\n",
    "(Also, I have a hunch that because most transformers use ReLU-style activations, the nonlinearities actually won't be too hurtful in most cases).\n",
    "\n",
    "An unanswered question I have is that in huggingface's GPT-2 implementation, the layernorm doesn't actually modify the residual stream every time; it's only used at final layers. I guess this is equivalent, though, or if there are slight variations it's easy to transpose these into the same problem.\n",
    "\n",
    "Also, here is a potential way to define the sparse space of a token's feature vector: It is the set of all possible vectors that can be added to the residual stream. This encapsulates the notion of word embeddings and positional embeddings being added to the residual stream, as well as MLP activations.\n"
   ]
  },
  {
   "cell_type": "code",
   "execution_count": 444,
   "id": "cbca2d19-4580-4cd8-8bc7-12365e0c96ab",
   "metadata": {
    "tags": []
   },
   "outputs": [
    {
     "data": {
      "text/plain": [
       "torch.Size([50257, 768])"
      ]
     },
     "execution_count": 444,
     "metadata": {},
     "output_type": "execute_result"
    }
   ],
   "source": [
    "gpt2.transformer."
   ]
  },
  {
   "cell_type": "code",
   "execution_count": 447,
   "id": "daea4ce5-f54a-4a5c-8878-87dfd31f79cf",
   "metadata": {
    "tags": []
   },
   "outputs": [
    {
     "data": {
      "text/plain": [
       "torch.Size([3072, 768])"
      ]
     },
     "execution_count": 447,
     "metadata": {},
     "output_type": "execute_result"
    }
   ],
   "source": [
    "gpt2.transformer.h[i].mlp.c_proj.weight.shape"
   ]
  },
  {
   "cell_type": "code",
   "execution_count": 449,
   "id": "1154b384-870f-46ba-8084-e671ae58a9f5",
   "metadata": {
    "tags": []
   },
   "outputs": [],
   "source": [
    "# find the sparse activation kernel for the token \"world\" \n",
    "@torch.no_grad()\n",
    "def get_sparse_activation_kernel(gpt2, target_vector):\n",
    "    hidden_kernels = []\n",
    "    for i in range(len(gpt2.transformer.h)):\n",
    "        hidden_kernels.append(\n",
    "            gpt2.transformer.h[i].mlp.c_proj.weight @ target_vector\n",
    "        )\n",
    "    # weight shapes: (50257 [GPT2_VOCAB_SIZE], 768 [d_model])\n",
    "    word_embedding_kernel = gpt2.transformer.wte.weight @ target_vector\n",
    "    pos_embedding_kernel = gpt2.transformer.wpe.weight @ target_vector\n",
    "    \n",
    "    return (word_embedding_kernel, pos_embedding_kernel, hidden_kernels)"
   ]
  },
  {
   "cell_type": "code",
   "execution_count": 450,
   "id": "cefaffb5-907f-41b3-b9c1-90890abdde20",
   "metadata": {
    "tags": []
   },
   "outputs": [
    {
     "data": {
      "text/plain": [
       "torch.Size([50257, 768])"
      ]
     },
     "execution_count": 450,
     "metadata": {},
     "output_type": "execute_result"
    }
   ],
   "source": [
    "gpt2.lm_head.weight.shape"
   ]
  },
  {
   "cell_type": "code",
   "execution_count": 451,
   "id": "2117d10e-c928-4ad6-998d-72d82d391d08",
   "metadata": {
    "tags": []
   },
   "outputs": [],
   "source": [
    "world_tok = gpt2_tokenizer(' world').input_ids[0]\n",
    "act_kernel = get_sparse_activation_kernel(gpt2, gpt2.lm_head.weight[world_tok])"
   ]
  },
  {
   "cell_type": "markdown",
   "id": "9df8a3d4-0e7e-43c3-89d5-2cd8ae539d36",
   "metadata": {},
   "source": [
    "## Plotting kernels\n",
    "\n",
    "Here, we plot the \"positional\" kernel -- the direct contribution of each positional encoding to the word \"world\"'s generation likelihood. I am surprised by how smooth it is.\n"
   ]
  },
  {
   "cell_type": "code",
   "execution_count": 455,
   "id": "3c5b85f4-61bb-4d6e-917a-fdd01ee96de4",
   "metadata": {
    "tags": []
   },
   "outputs": [
    {
     "data": {
      "image/png": "[encoded data removed]",
      "text/plain": [
       "<Figure size 640x480 with 1 Axes>"
      ]
     },
     "metadata": {},
     "output_type": "display_data"
    }
   ],
   "source": [
    "# plot positional kernel\n",
    "\n",
    "import numpy as np\n",
    "import matplotlib.pyplot as plt\n",
    "\n",
    "word_embedding_kernel, pos_embedding_kernel, hidden_kernels = act_kernel\n",
    "\n",
    "plt.title(\"Positional embedding generation kernel for ' world'\")\n",
    "plt.plot(pos_embedding_kernel.detach().cpu().numpy())\n",
    "plt.show()\n"
   ]
  },
  {
   "cell_type": "code",
   "execution_count": null,
   "id": "5c9d48ab-0eb9-4376-b605-977b7a4bb6d6",
   "metadata": {},
   "outputs": [],
   "source": []
  }
 ],
 "metadata": {
  "kernelspec": {
   "display_name": "py312",
   "language": "python",
   "name": "python3"
  },
  "language_info": {
   "codemirror_mode": {
    "name": "ipython",
    "version": 3
   },
   "file_extension": ".py",
   "mimetype": "text/x-python",
   "name": "python",
   "nbconvert_exporter": "python",
   "pygments_lexer": "ipython3",
   "version": "3.12.1"
  }
 },
 "nbformat": 4,
 "nbformat_minor": 5
}
